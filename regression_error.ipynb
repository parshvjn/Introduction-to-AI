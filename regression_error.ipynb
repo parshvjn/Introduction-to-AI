{
 "cells": [
  {
   "cell_type": "code",
   "execution_count": 12,
   "id": "f6bcb0ae-93a7-47b1-ab9b-a7099846d423",
   "metadata": {},
   "outputs": [],
   "source": [
    "from sklearn.datasets import make_regression\n",
    "import pandas as pd\n",
    "import matplotlib.pyplot as plt\n",
    "import numpy as np"
   ]
  },
  {
   "cell_type": "code",
   "execution_count": 2,
   "id": "e81d9c9a-9fef-42d9-8738-e146b9ac580c",
   "metadata": {},
   "outputs": [],
   "source": [
    "# parameter\n",
    "n_samples = 100\n",
    "n_features = 2\n",
    "noise = 2\n",
    "\n",
    "\n",
    "dataset  = make_regression(n_samples,n_features,noise=noise)"
   ]
  },
  {
   "cell_type": "code",
   "execution_count": 3,
   "id": "3567b630-95d4-42e0-8349-161405680c89",
   "metadata": {},
   "outputs": [],
   "source": [
    "dataset = pd.DataFrame(dataset[0],columns=['X','Y'])"
   ]
  },
  {
   "cell_type": "code",
   "execution_count": 4,
   "id": "632e57d5-d6ea-44d6-89a4-000a102050ea",
   "metadata": {},
   "outputs": [
    {
     "data": {
      "text/html": [
       "<div>\n",
       "<style scoped>\n",
       "    .dataframe tbody tr th:only-of-type {\n",
       "        vertical-align: middle;\n",
       "    }\n",
       "\n",
       "    .dataframe tbody tr th {\n",
       "        vertical-align: top;\n",
       "    }\n",
       "\n",
       "    .dataframe thead th {\n",
       "        text-align: right;\n",
       "    }\n",
       "</style>\n",
       "<table border=\"1\" class=\"dataframe\">\n",
       "  <thead>\n",
       "    <tr style=\"text-align: right;\">\n",
       "      <th></th>\n",
       "      <th>X</th>\n",
       "      <th>Y</th>\n",
       "    </tr>\n",
       "  </thead>\n",
       "  <tbody>\n",
       "    <tr>\n",
       "      <th>0</th>\n",
       "      <td>-0.625632</td>\n",
       "      <td>-1.181156</td>\n",
       "    </tr>\n",
       "    <tr>\n",
       "      <th>1</th>\n",
       "      <td>0.096394</td>\n",
       "      <td>0.772886</td>\n",
       "    </tr>\n",
       "    <tr>\n",
       "      <th>2</th>\n",
       "      <td>1.261168</td>\n",
       "      <td>-0.794820</td>\n",
       "    </tr>\n",
       "    <tr>\n",
       "      <th>3</th>\n",
       "      <td>-0.530987</td>\n",
       "      <td>-1.036637</td>\n",
       "    </tr>\n",
       "    <tr>\n",
       "      <th>4</th>\n",
       "      <td>-1.110989</td>\n",
       "      <td>1.264025</td>\n",
       "    </tr>\n",
       "    <tr>\n",
       "      <th>...</th>\n",
       "      <td>...</td>\n",
       "      <td>...</td>\n",
       "    </tr>\n",
       "    <tr>\n",
       "      <th>95</th>\n",
       "      <td>-0.368778</td>\n",
       "      <td>1.064664</td>\n",
       "    </tr>\n",
       "    <tr>\n",
       "      <th>96</th>\n",
       "      <td>0.613857</td>\n",
       "      <td>-0.647658</td>\n",
       "    </tr>\n",
       "    <tr>\n",
       "      <th>97</th>\n",
       "      <td>-0.308181</td>\n",
       "      <td>-0.118153</td>\n",
       "    </tr>\n",
       "    <tr>\n",
       "      <th>98</th>\n",
       "      <td>0.138667</td>\n",
       "      <td>-0.855029</td>\n",
       "    </tr>\n",
       "    <tr>\n",
       "      <th>99</th>\n",
       "      <td>0.302120</td>\n",
       "      <td>-0.605314</td>\n",
       "    </tr>\n",
       "  </tbody>\n",
       "</table>\n",
       "<p>100 rows × 2 columns</p>\n",
       "</div>"
      ],
      "text/plain": [
       "           X         Y\n",
       "0  -0.625632 -1.181156\n",
       "1   0.096394  0.772886\n",
       "2   1.261168 -0.794820\n",
       "3  -0.530987 -1.036637\n",
       "4  -1.110989  1.264025\n",
       "..       ...       ...\n",
       "95 -0.368778  1.064664\n",
       "96  0.613857 -0.647658\n",
       "97 -0.308181 -0.118153\n",
       "98  0.138667 -0.855029\n",
       "99  0.302120 -0.605314\n",
       "\n",
       "[100 rows x 2 columns]"
      ]
     },
     "execution_count": 4,
     "metadata": {},
     "output_type": "execute_result"
    }
   ],
   "source": [
    "# Synthetic dataset\n",
    "dataset"
   ]
  },
  {
   "cell_type": "code",
   "execution_count": 5,
   "id": "a9766f0c-5669-4c57-b3cf-53029e9fc5d3",
   "metadata": {},
   "outputs": [
    {
     "data": {
      "text/plain": [
       "<matplotlib.collections.PathCollection at 0x169dca02290>"
      ]
     },
     "execution_count": 5,
     "metadata": {},
     "output_type": "execute_result"
    },
    {
     "data": {
      "image/png": "[encoded data removed]",
      "text/plain": [
       "<Figure size 640x480 with 1 Axes>"
      ]
     },
     "metadata": {},
     "output_type": "display_data"
    }
   ],
   "source": [
    "plt.scatter(dataset['X'],dataset['Y'])"
   ]
  },
  {
   "cell_type": "markdown",
   "id": "3e855082-a46a-443d-bc27-07bd12943965",
   "metadata": {},
   "source": [
    "Y = m*X+b\n",
    "\n",
    "X is the independent variable\n",
    "Y is the dependent variable on X\n",
    "\n"
   ]
  },
  {
   "cell_type": "code",
   "execution_count": 10,
   "id": "c58c58e2-20fa-47fb-84ac-e14bf036695e",
   "metadata": {},
   "outputs": [],
   "source": [
    "mean_x = dataset['X'].mean()\n",
    "\n",
    "mean_y = dataset['Y'].mean()"
   ]
  },
  {
   "cell_type": "code",
   "execution_count": 11,
   "id": "4a282811-433a-4964-bba1-b1be0f1942da",
   "metadata": {},
   "outputs": [
    {
     "data": {
      "text/plain": [
       "-0.0012642118864816866"
      ]
     },
     "execution_count": 11,
     "metadata": {},
     "output_type": "execute_result"
    }
   ],
   "source": [
    "mean_y"
   ]
  },
  {
   "cell_type": "code",
   "execution_count": 20,
   "id": "9ec5d6f1-7d30-43ec-82b9-35b8675789f4",
   "metadata": {},
   "outputs": [],
   "source": [
    "x = np.array([i+2 for i in range(5)])\n",
    "y = np.array([i*2 for i in range(1,6)])"
   ]
  },
  {
   "cell_type": "code",
   "execution_count": 41,
   "id": "af9513b5-a826-4eea-9dda-e81e445383f2",
   "metadata": {},
   "outputs": [],
   "source": [
    "table = pd.DataFrame(list(zip(x,y)),columns=['X','Y'])"
   ]
  },
  {
   "cell_type": "code",
   "execution_count": 43,
   "id": "c5560e0c-af7e-4ec4-96b0-17d333176164",
   "metadata": {},
   "outputs": [
    {
     "data": {
      "text/html": [
       "<div>\n",
       "<style scoped>\n",
       "    .dataframe tbody tr th:only-of-type {\n",
       "        vertical-align: middle;\n",
       "    }\n",
       "\n",
       "    .dataframe tbody tr th {\n",
       "        vertical-align: top;\n",
       "    }\n",
       "\n",
       "    .dataframe thead th {\n",
       "        text-align: right;\n",
       "    }\n",
       "</style>\n",
       "<table border=\"1\" class=\"dataframe\">\n",
       "  <thead>\n",
       "    <tr style=\"text-align: right;\">\n",
       "      <th></th>\n",
       "      <th>X</th>\n",
       "      <th>Y</th>\n",
       "    </tr>\n",
       "  </thead>\n",
       "  <tbody>\n",
       "    <tr>\n",
       "      <th>0</th>\n",
       "      <td>2</td>\n",
       "      <td>2</td>\n",
       "    </tr>\n",
       "    <tr>\n",
       "      <th>1</th>\n",
       "      <td>3</td>\n",
       "      <td>4</td>\n",
       "    </tr>\n",
       "    <tr>\n",
       "      <th>2</th>\n",
       "      <td>4</td>\n",
       "      <td>6</td>\n",
       "    </tr>\n",
       "    <tr>\n",
       "      <th>3</th>\n",
       "      <td>5</td>\n",
       "      <td>8</td>\n",
       "    </tr>\n",
       "    <tr>\n",
       "      <th>4</th>\n",
       "      <td>6</td>\n",
       "      <td>10</td>\n",
       "    </tr>\n",
       "  </tbody>\n",
       "</table>\n",
       "</div>"
      ],
      "text/plain": [
       "   X   Y\n",
       "0  2   2\n",
       "1  3   4\n",
       "2  4   6\n",
       "3  5   8\n",
       "4  6  10"
      ]
     },
     "execution_count": 43,
     "metadata": {},
     "output_type": "execute_result"
    }
   ],
   "source": [
    "table"
   ]
  },
  {
   "cell_type": "code",
   "execution_count": 51,
   "id": "73101928-26f9-41c8-ba01-e5295bd448f2",
   "metadata": {},
   "outputs": [
    {
     "data": {
      "text/plain": [
       "4.0"
      ]
     },
     "execution_count": 51,
     "metadata": {},
     "output_type": "execute_result"
    }
   ],
   "source": [
    "x_mean = table['X'].mean()\n",
    "y_mean = table['Y'].mean()\n",
    "x_mean"
   ]
  },
  {
   "cell_type": "code",
   "execution_count": 48,
   "id": "e90ee3b0-5524-423a-abab-0e5957bf3751",
   "metadata": {},
   "outputs": [
    {
     "data": {
      "text/plain": [
       "6.0"
      ]
     },
     "execution_count": 48,
     "metadata": {},
     "output_type": "execute_result"
    }
   ],
   "source": [
    "y_mean"
   ]
  },
  {
   "cell_type": "code",
   "execution_count": 53,
   "id": "dabcbae8-a9f2-42c8-8ca8-0466abd93ee0",
   "metadata": {},
   "outputs": [],
   "source": [
    "table['Deviation_X'] = table.apply(lambda x: x['X']-x_mean,axis=1)"
   ]
  },
  {
   "cell_type": "code",
   "execution_count": 54,
   "id": "8b3f7dc0-4371-4f1e-b081-6c0597f5870e",
   "metadata": {},
   "outputs": [
    {
     "data": {
      "text/html": [
       "<div>\n",
       "<style scoped>\n",
       "    .dataframe tbody tr th:only-of-type {\n",
       "        vertical-align: middle;\n",
       "    }\n",
       "\n",
       "    .dataframe tbody tr th {\n",
       "        vertical-align: top;\n",
       "    }\n",
       "\n",
       "    .dataframe thead th {\n",
       "        text-align: right;\n",
       "    }\n",
       "</style>\n",
       "<table border=\"1\" class=\"dataframe\">\n",
       "  <thead>\n",
       "    <tr style=\"text-align: right;\">\n",
       "      <th></th>\n",
       "      <th>X</th>\n",
       "      <th>Y</th>\n",
       "      <th>Deviation_X</th>\n",
       "      <th>Deviation_Y</th>\n",
       "    </tr>\n",
       "  </thead>\n",
       "  <tbody>\n",
       "    <tr>\n",
       "      <th>0</th>\n",
       "      <td>2</td>\n",
       "      <td>2</td>\n",
       "      <td>-2.0</td>\n",
       "      <td>-4.0</td>\n",
       "    </tr>\n",
       "    <tr>\n",
       "      <th>1</th>\n",
       "      <td>3</td>\n",
       "      <td>4</td>\n",
       "      <td>-1.0</td>\n",
       "      <td>-2.0</td>\n",
       "    </tr>\n",
       "    <tr>\n",
       "      <th>2</th>\n",
       "      <td>4</td>\n",
       "      <td>6</td>\n",
       "      <td>0.0</td>\n",
       "      <td>0.0</td>\n",
       "    </tr>\n",
       "    <tr>\n",
       "      <th>3</th>\n",
       "      <td>5</td>\n",
       "      <td>8</td>\n",
       "      <td>1.0</td>\n",
       "      <td>2.0</td>\n",
       "    </tr>\n",
       "    <tr>\n",
       "      <th>4</th>\n",
       "      <td>6</td>\n",
       "      <td>10</td>\n",
       "      <td>2.0</td>\n",
       "      <td>4.0</td>\n",
       "    </tr>\n",
       "  </tbody>\n",
       "</table>\n",
       "</div>"
      ],
      "text/plain": [
       "   X   Y  Deviation_X  Deviation_Y\n",
       "0  2   2         -2.0         -4.0\n",
       "1  3   4         -1.0         -2.0\n",
       "2  4   6          0.0          0.0\n",
       "3  5   8          1.0          2.0\n",
       "4  6  10          2.0          4.0"
      ]
     },
     "execution_count": 54,
     "metadata": {},
     "output_type": "execute_result"
    }
   ],
   "source": [
    "table['Deviation_Y'] = table.apply(lambda x: x['Y']-y_mean,axis=1)\n",
    "table"
   ]
  },
  {
   "cell_type": "code",
   "execution_count": 55,
   "id": "a3465300-c1a6-403d-8c74-3c8d714a1432",
   "metadata": {},
   "outputs": [],
   "source": [
    "table['Deviation_product'] = table.apply(lambda x: x['Deviation_X']*x['Deviation_Y'],axis=1)"
   ]
  },
  {
   "cell_type": "code",
   "execution_count": 56,
   "id": "0d606cf3-2d97-45ba-84cc-ec29c8588df4",
   "metadata": {},
   "outputs": [
    {
     "data": {
      "text/html": [
       "<div>\n",
       "<style scoped>\n",
       "    .dataframe tbody tr th:only-of-type {\n",
       "        vertical-align: middle;\n",
       "    }\n",
       "\n",
       "    .dataframe tbody tr th {\n",
       "        vertical-align: top;\n",
       "    }\n",
       "\n",
       "    .dataframe thead th {\n",
       "        text-align: right;\n",
       "    }\n",
       "</style>\n",
       "<table border=\"1\" class=\"dataframe\">\n",
       "  <thead>\n",
       "    <tr style=\"text-align: right;\">\n",
       "      <th></th>\n",
       "      <th>X</th>\n",
       "      <th>Y</th>\n",
       "      <th>Deviation_X</th>\n",
       "      <th>Deviation_Y</th>\n",
       "      <th>Deviation_product</th>\n",
       "    </tr>\n",
       "  </thead>\n",
       "  <tbody>\n",
       "    <tr>\n",
       "      <th>0</th>\n",
       "      <td>2</td>\n",
       "      <td>2</td>\n",
       "      <td>-2.0</td>\n",
       "      <td>-4.0</td>\n",
       "      <td>8.0</td>\n",
       "    </tr>\n",
       "    <tr>\n",
       "      <th>1</th>\n",
       "      <td>3</td>\n",
       "      <td>4</td>\n",
       "      <td>-1.0</td>\n",
       "      <td>-2.0</td>\n",
       "      <td>2.0</td>\n",
       "    </tr>\n",
       "    <tr>\n",
       "      <th>2</th>\n",
       "      <td>4</td>\n",
       "      <td>6</td>\n",
       "      <td>0.0</td>\n",
       "      <td>0.0</td>\n",
       "      <td>0.0</td>\n",
       "    </tr>\n",
       "    <tr>\n",
       "      <th>3</th>\n",
       "      <td>5</td>\n",
       "      <td>8</td>\n",
       "      <td>1.0</td>\n",
       "      <td>2.0</td>\n",
       "      <td>2.0</td>\n",
       "    </tr>\n",
       "    <tr>\n",
       "      <th>4</th>\n",
       "      <td>6</td>\n",
       "      <td>10</td>\n",
       "      <td>2.0</td>\n",
       "      <td>4.0</td>\n",
       "      <td>8.0</td>\n",
       "    </tr>\n",
       "  </tbody>\n",
       "</table>\n",
       "</div>"
      ],
      "text/plain": [
       "   X   Y  Deviation_X  Deviation_Y  Deviation_product\n",
       "0  2   2         -2.0         -4.0                8.0\n",
       "1  3   4         -1.0         -2.0                2.0\n",
       "2  4   6          0.0          0.0                0.0\n",
       "3  5   8          1.0          2.0                2.0\n",
       "4  6  10          2.0          4.0                8.0"
      ]
     },
     "execution_count": 56,
     "metadata": {},
     "output_type": "execute_result"
    }
   ],
   "source": [
    "table"
   ]
  },
  {
   "cell_type": "code",
   "execution_count": 58,
   "id": "2180eb39-7853-41f3-8c66-95abf54d566c",
   "metadata": {},
   "outputs": [],
   "source": [
    "sum_of_product_of_deviation = table['Deviation_product'].sum()"
   ]
  },
  {
   "cell_type": "code",
   "execution_count": 59,
   "id": "491a9eec-3323-4068-85a0-ab73f422de4b",
   "metadata": {},
   "outputs": [
    {
     "data": {
      "text/plain": [
       "20.0"
      ]
     },
     "execution_count": 59,
     "metadata": {},
     "output_type": "execute_result"
    }
   ],
   "source": [
    "sum_of_product_of_deviation"
   ]
  },
  {
   "cell_type": "code",
   "execution_count": 60,
   "id": "210c2e21-f956-4db1-8181-91474d874cd5",
   "metadata": {},
   "outputs": [],
   "source": [
    "table['square_of_deviation_x'] = table.apply(lambda x: x['Deviation_X']**2,axis=1)"
   ]
  },
  {
   "cell_type": "code",
   "execution_count": 61,
   "id": "1664f7e2-4fb8-456f-98d4-45b9063a95f7",
   "metadata": {},
   "outputs": [
    {
     "data": {
      "text/html": [
       "<div>\n",
       "<style scoped>\n",
       "    .dataframe tbody tr th:only-of-type {\n",
       "        vertical-align: middle;\n",
       "    }\n",
       "\n",
       "    .dataframe tbody tr th {\n",
       "        vertical-align: top;\n",
       "    }\n",
       "\n",
       "    .dataframe thead th {\n",
       "        text-align: right;\n",
       "    }\n",
       "</style>\n",
       "<table border=\"1\" class=\"dataframe\">\n",
       "  <thead>\n",
       "    <tr style=\"text-align: right;\">\n",
       "      <th></th>\n",
       "      <th>X</th>\n",
       "      <th>Y</th>\n",
       "      <th>Deviation_X</th>\n",
       "      <th>Deviation_Y</th>\n",
       "      <th>Deviation_product</th>\n",
       "      <th>square_of_deviation_x</th>\n",
       "    </tr>\n",
       "  </thead>\n",
       "  <tbody>\n",
       "    <tr>\n",
       "      <th>0</th>\n",
       "      <td>2</td>\n",
       "      <td>2</td>\n",
       "      <td>-2.0</td>\n",
       "      <td>-4.0</td>\n",
       "      <td>8.0</td>\n",
       "      <td>4.0</td>\n",
       "    </tr>\n",
       "    <tr>\n",
       "      <th>1</th>\n",
       "      <td>3</td>\n",
       "      <td>4</td>\n",
       "      <td>-1.0</td>\n",
       "      <td>-2.0</td>\n",
       "      <td>2.0</td>\n",
       "      <td>1.0</td>\n",
       "    </tr>\n",
       "    <tr>\n",
       "      <th>2</th>\n",
       "      <td>4</td>\n",
       "      <td>6</td>\n",
       "      <td>0.0</td>\n",
       "      <td>0.0</td>\n",
       "      <td>0.0</td>\n",
       "      <td>0.0</td>\n",
       "    </tr>\n",
       "    <tr>\n",
       "      <th>3</th>\n",
       "      <td>5</td>\n",
       "      <td>8</td>\n",
       "      <td>1.0</td>\n",
       "      <td>2.0</td>\n",
       "      <td>2.0</td>\n",
       "      <td>1.0</td>\n",
       "    </tr>\n",
       "    <tr>\n",
       "      <th>4</th>\n",
       "      <td>6</td>\n",
       "      <td>10</td>\n",
       "      <td>2.0</td>\n",
       "      <td>4.0</td>\n",
       "      <td>8.0</td>\n",
       "      <td>4.0</td>\n",
       "    </tr>\n",
       "  </tbody>\n",
       "</table>\n",
       "</div>"
      ],
      "text/plain": [
       "   X   Y  Deviation_X  Deviation_Y  Deviation_product  square_of_deviation_x\n",
       "0  2   2         -2.0         -4.0                8.0                    4.0\n",
       "1  3   4         -1.0         -2.0                2.0                    1.0\n",
       "2  4   6          0.0          0.0                0.0                    0.0\n",
       "3  5   8          1.0          2.0                2.0                    1.0\n",
       "4  6  10          2.0          4.0                8.0                    4.0"
      ]
     },
     "execution_count": 61,
     "metadata": {},
     "output_type": "execute_result"
    }
   ],
   "source": [
    "table"
   ]
  },
  {
   "cell_type": "code",
   "execution_count": 63,
   "id": "b8ce8fbc-c939-44a7-ac54-241c8bb4e78a",
   "metadata": {},
   "outputs": [
    {
     "data": {
      "text/plain": [
       "10.0"
      ]
     },
     "execution_count": 63,
     "metadata": {},
     "output_type": "execute_result"
    }
   ],
   "source": [
    "sum_of_square_of_deviation_x = table['square_of_deviation_x'].sum()\n",
    "sum_of_square_of_deviation_x"
   ]
  },
  {
   "cell_type": "code",
   "execution_count": 64,
   "id": "bac64d28-bc32-4e9e-847b-79d86598668a",
   "metadata": {},
   "outputs": [],
   "source": [
    "slope = sum_of_product_of_deviation/sum_of_square_of_deviation_x"
   ]
  },
  {
   "cell_type": "code",
   "execution_count": 65,
   "id": "f181a389-e5e1-45d1-903c-5d084eff0d48",
   "metadata": {},
   "outputs": [
    {
     "data": {
      "text/plain": [
       "2.0"
      ]
     },
     "execution_count": 65,
     "metadata": {},
     "output_type": "execute_result"
    }
   ],
   "source": [
    "slope"
   ]
  },
  {
   "cell_type": "code",
   "execution_count": 66,
   "id": "e38382a3-888e-461a-b5c3-9984b732a47e",
   "metadata": {},
   "outputs": [],
   "source": [
    "Bias = y_mean- (slope*x_mean)"
   ]
  },
  {
   "cell_type": "code",
   "execution_count": 67,
   "id": "18b6370f-693b-4d1d-8441-0fe91e4499af",
   "metadata": {},
   "outputs": [
    {
     "data": {
      "text/plain": [
       "-2.0"
      ]
     },
     "execution_count": 67,
     "metadata": {},
     "output_type": "execute_result"
    }
   ],
   "source": [
    "Bias"
   ]
  },
  {
   "cell_type": "code",
   "execution_count": 68,
   "id": "59421a9d-4878-4cb3-9203-5c0b26427b67",
   "metadata": {},
   "outputs": [
    {
     "data": {
      "text/plain": [
       "4.0"
      ]
     },
     "execution_count": 68,
     "metadata": {},
     "output_type": "execute_result"
    }
   ],
   "source": [
    "x_mean"
   ]
  },
  {
   "cell_type": "code",
   "execution_count": 83,
   "id": "6b30b8dd-98d0-41e8-b7ae-2409e2c16894",
   "metadata": {},
   "outputs": [
    {
     "data": {
      "text/plain": [
       "<matplotlib.collections.PathCollection at 0x169e318df90>"
      ]
     },
     "execution_count": 83,
     "metadata": {},
     "output_type": "execute_result"
    },
    {
     "data": {
      "image/png": "[encoded data removed]",
      "text/plain": [
       "<Figure size 640x480 with 1 Axes>"
      ]
     },
     "metadata": {},
     "output_type": "display_data"
    }
   ],
   "source": [
    "plt.plot(table['X'])\n",
    "plt.plot(table['Y'])\n",
    "plt.plot([Bias],marker = 'x')\n",
    "plt.plot([slope],marker = 'o')\n",
    "plt.scatter(dataset['X'],dataset['Y'])"
   ]
  },
  {
   "cell_type": "code",
   "execution_count": 81,
   "id": "acb0964b-8c5e-4c19-9a0e-2bd9465b0686",
   "metadata": {},
   "outputs": [],
   "source": [
    "y_hat = (slope*7)+Bias"
   ]
  },
  {
   "cell_type": "code",
   "execution_count": 82,
   "id": "99a338b5-fe3b-40b6-b3b1-ad97c46a0491",
   "metadata": {},
   "outputs": [
    {
     "data": {
      "text/plain": [
       "12.0"
      ]
     },
     "execution_count": 82,
     "metadata": {},
     "output_type": "execute_result"
    }
   ],
   "source": [
    "y_hat"
   ]
  },
  {
   "cell_type": "markdown",
   "id": "f197a864-db62-482c-bd70-a1273067a9ed",
   "metadata": {},
   "source": [
    "## Error Evaluation in Regression"
   ]
  },
  {
   "cell_type": "markdown",
   "id": "574bc690-47d1-425f-b5aa-37a29a88cd8b",
   "metadata": {},
   "source": [
    "#### Mean Absolute Error"
   ]
  },
  {
   "cell_type": "code",
   "execution_count": 84,
   "id": "5fc4ad08-2714-431c-805f-d49fc041911d",
   "metadata": {},
   "outputs": [],
   "source": [
    "from sklearn.metrics import mean_absolute_error,mean_squared_error"
   ]
  },
  {
   "cell_type": "code",
   "execution_count": 85,
   "id": "fd36a68e-b4ab-46e8-9f62-4f0e498922fb",
   "metadata": {},
   "outputs": [
    {
     "data": {
      "text/plain": [
       "\u001b[1;31mSignature:\u001b[0m\n",
       "\u001b[0mmean_absolute_error\u001b[0m\u001b[1;33m(\u001b[0m\u001b[1;33m\n",
       "\u001b[0m    \u001b[0my_true\u001b[0m\u001b[1;33m,\u001b[0m\u001b[1;33m\n",
       "\u001b[0m    \u001b[0my_pred\u001b[0m\u001b[1;33m,\u001b[0m\u001b[1;33m\n",
       "\u001b[0m    \u001b[1;33m*\u001b[0m\u001b[1;33m,\u001b[0m\u001b[1;33m\n",
       "\u001b[0m    \u001b[0msample_weight\u001b[0m\u001b[1;33m=\u001b[0m\u001b[1;32mNone\u001b[0m\u001b[1;33m,\u001b[0m\u001b[1;33m\n",
       "\u001b[0m    \u001b[0mmultioutput\u001b[0m\u001b[1;33m=\u001b[0m\u001b[1;34m'uniform_average'\u001b[0m\u001b[1;33m,\u001b[0m\u001b[1;33m\n",
       "\u001b[0m\u001b[1;33m)\u001b[0m\u001b[1;33m\u001b[0m\u001b[1;33m\u001b[0m\u001b[0m\n",
       "\u001b[1;31mDocstring:\u001b[0m\n",
       "Mean absolute error regression loss.\n",
       "\n",
       "Read more in the :ref:`User Guide <mean_absolute_error>`.\n",
       "\n",
       "Parameters\n",
       "----------\n",
       "y_true : array-like of shape (n_samples,) or (n_samples, n_outputs)\n",
       "    Ground truth (correct) target values.\n",
       "\n",
       "y_pred : array-like of shape (n_samples,) or (n_samples, n_outputs)\n",
       "    Estimated target values.\n",
       "\n",
       "sample_weight : array-like of shape (n_samples,), default=None\n",
       "    Sample weights.\n",
       "\n",
       "multioutput : {'raw_values', 'uniform_average'}  or array-like of shape             (n_outputs,), default='uniform_average'\n",
       "    Defines aggregating of multiple output values.\n",
       "    Array-like value defines weights used to average errors.\n",
       "\n",
       "    'raw_values' :\n",
       "        Returns a full set of errors in case of multioutput input.\n",
       "\n",
       "    'uniform_average' :\n",
       "        Errors of all outputs are averaged with uniform weight.\n",
       "\n",
       "Returns\n",
       "-------\n",
       "loss : float or ndarray of floats\n",
       "    If multioutput is 'raw_values', then mean absolute error is returned\n",
       "    for each output separately.\n",
       "    If multioutput is 'uniform_average' or an ndarray of weights, then the\n",
       "    weighted average of all output errors is returned.\n",
       "\n",
       "    MAE output is non-negative floating point. The best value is 0.0.\n",
       "\n",
       "Examples\n",
       "--------\n",
       ">>> from sklearn.metrics import mean_absolute_error\n",
       ">>> y_true = [3, -0.5, 2, 7]\n",
       ">>> y_pred = [2.5, 0.0, 2, 8]\n",
       ">>> mean_absolute_error(y_true, y_pred)\n",
       "0.5\n",
       ">>> y_true = [[0.5, 1], [-1, 1], [7, -6]]\n",
       ">>> y_pred = [[0, 2], [-1, 2], [8, -5]]\n",
       ">>> mean_absolute_error(y_true, y_pred)\n",
       "0.75\n",
       ">>> mean_absolute_error(y_true, y_pred, multioutput='raw_values')\n",
       "array([0.5, 1. ])\n",
       ">>> mean_absolute_error(y_true, y_pred, multioutput=[0.3, 0.7])\n",
       "0.85...\n",
       "\u001b[1;31mFile:\u001b[0m      c:\\users\\piyush\\appdata\\local\\programs\\python\\python311\\lib\\site-packages\\sklearn\\metrics\\_regression.py\n",
       "\u001b[1;31mType:\u001b[0m      function"
      ]
     },
     "metadata": {},
     "output_type": "display_data"
    }
   ],
   "source": [
    "mean_absolute_error?"
   ]
  },
  {
   "cell_type": "code",
   "execution_count": 90,
   "id": "0db9019a-5ff9-4505-9007-e647ddc8b779",
   "metadata": {},
   "outputs": [
    {
     "data": {
      "text/plain": [
       "2.0"
      ]
     },
     "execution_count": 90,
     "metadata": {},
     "output_type": "execute_result"
    }
   ],
   "source": [
    "mean_absolute_error([12],[10])"
   ]
  },
  {
   "cell_type": "code",
   "execution_count": 91,
   "id": "fb0de17f-94a1-49cd-928d-7c983b36f9e4",
   "metadata": {},
   "outputs": [
    {
     "data": {
      "text/plain": [
       "4.0"
      ]
     },
     "execution_count": 91,
     "metadata": {},
     "output_type": "execute_result"
    }
   ],
   "source": [
    "mean_squared_error([12],[10])"
   ]
  },
  {
   "cell_type": "code",
   "execution_count": null,
   "id": "ee279d23-9cff-46e4-9a8c-87153529b230",
   "metadata": {},
   "outputs": [],
   "source": []
  }
 ],
 "metadata": {
  "kernelspec": {
   "display_name": "Python 3 (ipykernel)",
   "language": "python",
   "name": "python3"
  },
  "language_info": {
   "codemirror_mode": {
    "name": "ipython",
    "version": 3
   },
   "file_extension": ".py",
   "mimetype": "text/x-python",
   "name": "python",
   "nbconvert_exporter": "python",
   "pygments_lexer": "ipython3",
   "version": "3.9.12"
  }
 },
 "nbformat": 4,
 "nbformat_minor": 5
}
